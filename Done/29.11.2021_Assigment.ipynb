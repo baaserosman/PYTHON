{
 "cells": [
  {
   "cell_type": "markdown",
   "metadata": {},
   "source": [
    "### Problem 1\n",
    "1'den 1000'e kadar olan sayılardan mükemmel sayı olanları ekrana yazdırın. Bunun için bir sayının mükeı dmmel olup olmadığınönen bir tane fonksiyon yazın.\n",
    "*Bir sayının bölenlerinin toplamı kendine eşitse bu sayı mükemmel bir sayıdır. Örnek olarak 6 mükemmel bir sayıdır (1 + 2 + 3 = 6).*"
   ]
  },
  {
   "cell_type": "code",
   "execution_count": 1,
   "metadata": {},
   "outputs": [
    {
     "name": "stdout",
     "output_type": "stream",
     "text": [
      "[6, 28, 496]\n"
     ]
    }
   ],
   "source": [
    "def mükemmel_sayı(sayı):\n",
    "    \n",
    "    toplam = 0\n",
    "    \n",
    "    for i in range(1, sayı):\n",
    "        if sayı % i == 0:\n",
    "            toplam += i\n",
    "    \n",
    "    return toplam == sayı\n",
    "\n",
    "sonuc = []\n",
    "\n",
    "for i in range(1,1001):\n",
    "    if mükemmel_sayı(i):\n",
    "        sonuc.append(i)\n",
    "        \n",
    "print(sonuc)"
   ]
  },
  {
   "cell_type": "code",
   "execution_count": 5,
   "metadata": {},
   "outputs": [
    {
     "name": "stdout",
     "output_type": "stream",
     "text": [
      "[6, 28, 496]\n"
     ]
    }
   ],
   "source": [
    "sonuc = []\n",
    "\n",
    "for tüm_değerler in range(1, 1001):\n",
    "\n",
    "    toplam = 0\n",
    "\n",
    "    for bölenler in range(1, tüm_değerler):\n",
    "        if tüm_değerler % bölenler == 0:\n",
    "            toplam += bölenler\n",
    "\n",
    "    if toplam == tüm_değerler:\n",
    "        sonuc.append(tüm_değerler)\n",
    "\n",
    "print(sonuc)"
   ]
  },
  {
   "cell_type": "code",
   "execution_count": 33,
   "metadata": {},
   "outputs": [
    {
     "name": "stdout",
     "output_type": "stream",
     "text": [
      "[18]\n"
     ]
    }
   ],
   "source": [
    "sonuc =[]\n",
    "\n",
    "def sayısay(sayı) :\n",
    "    toplam = 0\n",
    "\n",
    "    for i in range(len(str(sayı))):\n",
    "        toplam += int(str(sayı)[i])       \n",
    "    return 2 * toplam == sayı \n",
    "\n",
    "for i in range(1, 101):\n",
    "    if sayısay(i) :\n",
    "        sonuc.append(i)\n",
    "print(sonuc)             "
   ]
  },
  {
   "cell_type": "code",
   "execution_count": 7,
   "metadata": {},
   "outputs": [
    {
     "name": "stdout",
     "output_type": "stream",
     "text": [
      "[18]\n"
     ]
    }
   ],
   "source": [
    "sonuc = []\n",
    "\n",
    "for tüm_değerler in range(1, 101):\n",
    "\n",
    "    toplam = 0\n",
    "\n",
    "    for i in range(len(str(tüm_değerler))):\n",
    "        toplam += int(str(tüm_değerler)[i])\n",
    "\n",
    "    if 2*toplam == tüm_değerler :\n",
    "        sonuc.append(tüm_değerler)\n",
    "\n",
    "print(sonuc)"
   ]
  },
  {
   "cell_type": "code",
   "execution_count": 40,
   "metadata": {},
   "outputs": [
    {
     "name": "stdout",
     "output_type": "stream",
     "text": [
      "[1, 153, 370, 371, 407]\n"
     ]
    }
   ],
   "source": [
    "sonuc = []\n",
    "def armstrong_number(number) :\n",
    "    summ = 0\n",
    "    for i in range(len(str(number))):\n",
    "        summ += int(str(number)[i]) **3\n",
    "    return summ == number\n",
    "\n",
    "for i in range(1,1001) :\n",
    "    if armstrong_number(i):\n",
    "        sonuc.append(i)\n",
    "\n",
    "print(sonuc) "
   ]
  },
  {
   "cell_type": "code",
   "execution_count": 37,
   "metadata": {},
   "outputs": [
    {
     "name": "stdout",
     "output_type": "stream",
     "text": [
      "[1, 153, 370, 371, 407]\n"
     ]
    }
   ],
   "source": [
    "sonuc =[]\n",
    "\n",
    "def armstrong_number(number) :\n",
    "    summ = 0\n",
    "    for i in range(len(str(number))):\n",
    "        summ += int(str(number)[i]) **3\n",
    "    return summ == number\n",
    "\n",
    "for number in range(1, 1001):\n",
    "    if armstrong_number(number) :\n",
    "        sonuc.append(number)\n",
    "\n",
    "print(sonuc)"
   ]
  },
  {
   "cell_type": "code",
   "execution_count": 14,
   "metadata": {},
   "outputs": [
    {
     "name": "stdout",
     "output_type": "stream",
     "text": [
      "370 is a ARMSTRONG number. \n"
     ]
    }
   ],
   "source": [
    "num = int(input(\"bir sayı gir\"))\n",
    "summ = 0\n",
    "for i in range(len(str(num))):\n",
    "        summ += int(str(num)[i]) **3\n",
    "\n",
    "if summ == num :\n",
    "    print(num, \"is a ARMSTRONG number. \")"
   ]
  },
  {
   "cell_type": "markdown",
   "metadata": {},
   "source": [
    "### Problem 2\n",
    "Kullanıcıdan 2 tane sayı alarak bu sayıların en büyük ortak bölenini (EBOB) dönen bir tane fonksiyon yazın. \n",
    "Problem için şu siteye bakabilirsiniz;\n",
    "http://www.matematikciler.com/6-sinif/matematik-konu-anlatimlari/1020-en-kucuk-ortak-kat-ve-en-buyuk-ortak-bolen-ebob-ekok\n",
    "matematikciler.commatematikciler.com\n",
    "8. Sınıf EBOB - EKOK Konu Anlatımı | matematikciler.com\n",
    "8. sınıf ebob - ekok konu anlatımı. Bu konuda en büyük ortak bölen, en küçük ortak kat, ebob-ekok bulma, ebob-ekok problemleri anlatılmaktadır. (45 kB)"
   ]
  },
  {
   "cell_type": "code",
   "execution_count": 18,
   "metadata": {},
   "outputs": [
    {
     "name": "stdout",
     "output_type": "stream",
     "text": [
      "100 ve 250'in EBOB'u = 50\n"
     ]
    }
   ],
   "source": [
    "def ebob_bul(sayi1, sayi2) :\n",
    "    if(sayi1>sayi2) :\n",
    "        kücük = sayi2\n",
    "    else:\n",
    "        kücük = sayi1\n",
    "    \n",
    "    a = kücük\n",
    "\n",
    "    while a>0 :\n",
    "        if sayi1 % a == 0 and sayi2 % a == 0 :\n",
    "            return a \n",
    "        a -=1\n",
    "    return 1\n",
    "\n",
    "while True :\n",
    "    sayi1 = int(input(\"sayi1:\"))\n",
    "    sayi2 = int(input(\"sayi2:\"))\n",
    "    print(f\"{sayi1} ve {sayi2}'in EBOB'u = {ebob_bul(sayi1, sayi2)}\")\n",
    "    break"
   ]
  },
  {
   "cell_type": "markdown",
   "metadata": {},
   "source": [
    "Problem 3\n",
    "\n",
    "Kullanıcıdan 2 tane sayı alarak bu sayıların en küçük ortak katlarını (EKOK) dönen bir tane fonksiyon yazın.\n",
    "Problem için şu siteye bakabilirsiniz;\n",
    "http://www.matematikciler.com/6-sinif/matematik-konu-anlatimlari/1020-en-kucuk-ortak-kat-ve-en-buyuk-ortak-bolen-ebob-ekok (bearbeitet) "
   ]
  },
  {
   "cell_type": "code",
   "execution_count": 24,
   "metadata": {},
   "outputs": [
    {
     "name": "stdout",
     "output_type": "stream",
     "text": [
      "9 ve 12'in EKOK'u = 36\n"
     ]
    }
   ],
   "source": [
    "def ekok_bul(sayi1, sayi2) :\n",
    "    if(sayi1>sayi2) :\n",
    "        büyük = sayi1\n",
    "    else:\n",
    "        büyük = sayi2\n",
    "    \n",
    "    a = büyük\n",
    "\n",
    "    while a < sayi1 * sayi2 :\n",
    "        if a % sayi1 == 0 and a % sayi2 == 0 :\n",
    "            return a \n",
    "        a +=1\n",
    "    return sayi1 * sayi2 \n",
    "\n",
    "while True :\n",
    "    sayi1 = int(input(\"sayi1:\"))\n",
    "    sayi2 = int(input(\"sayi2:\"))\n",
    "    print(f\"{sayi1} ve {sayi2}'in EKOK'u = {ekok_bul(sayi1, sayi2)}\")\n",
    "    break"
   ]
  },
  {
   "cell_type": "markdown",
   "metadata": {},
   "source": [
    "### Problem 4\n",
    "\n",
    "Kullanıcıdan 2 basamaklı bir sayı alın ve bu sayının okunuşunu bulan bir fonksiyon yazın.\n",
    "*Örnek: 97 ---------> Doksan Yedi*"
   ]
  },
  {
   "cell_type": "code",
   "execution_count": 45,
   "metadata": {},
   "outputs": [],
   "source": [
    "def readanumber(number) :\n",
    "    a = [\"\", \"one\", \"two\", \"three\", \"four\", \"five\", \"six\", \"seven\", \"eight\", \"nine\"]\n",
    "    b = [\"\", \"ten\", \"twenty\", \"thirty\",\"fourty\", \"fifty\", \"sixty\", \"seventy\", \"eighty\", \"ninety\"]\n",
    "    c = [\"\", \"onehundred\", \"twohundred\", \"threehundred\", \"fourhundred\", \"fivehundred\",\"sixhundred\", \"sevenhundred\", \"eighthundred\",\"ninehundred\"]\n",
    "    d = [\"\", \"onethausand\", \"twothausand\", \"threethausand\", \"fourthausand\", \"fivethausand\", \"sixthausand\", \"seventhausand\", \"eightthausand\", \"ninethausand\"]\n",
    "\n",
    "    return str(d[int((str(number))[0])]) +  str(c[int((str(number))[1])]) +  str(b[int((str(number))[2])]) +  str(a[int((str(number))[3])])\n"
   ]
  },
  {
   "cell_type": "code",
   "execution_count": 47,
   "metadata": {},
   "outputs": [
    {
     "name": "stdout",
     "output_type": "stream",
     "text": [
      "ninethausandsevenhundredeightysix\n"
     ]
    }
   ],
   "source": [
    "print(readanumber(9786))"
   ]
  },
  {
   "cell_type": "markdown",
   "metadata": {},
   "source": [
    "Problem 5\n",
    "\n",
    "1'den 100'e kadar olan sayılardan pisagor üçgeni oluşturanları ekrana yazdıran bir fonksiyon yazın.(a <= 100,b <= 100)"
   ]
  },
  {
   "cell_type": "code",
   "execution_count": 28,
   "metadata": {},
   "outputs": [
    {
     "name": "stdout",
     "output_type": "stream",
     "text": [
      "52\n",
      "[{3, 4, 5}, {13, 12, 5}, {8, 10, 6}, {24, 25, 7}, {8, 17, 15}, {9, 12, 15}, {40, 9, 41}, {24, 10, 26}, {11, 60, 61}, {16, 12, 20}, {35, 12, 37}, {85, 84, 13}, {48, 50, 14}, {25, 20, 15}, {36, 39, 15}, {16, 34, 30}, {16, 65, 63}, {24, 18, 30}, {80, 18, 82}, {29, 20, 21}, {48, 20, 52}, {35, 28, 21}, {72, 75, 21}, {24, 32, 40}, {24, 51, 45}, {24, 74, 70}, {65, 25, 60}, {27, 36, 45}, {53, 28, 45}, {96, 100, 28}, {40, 50, 30}, {72, 78, 30}, {32, 60, 68}, {33, 44, 55}, {56, 33, 65}, {91, 35, 84}, {48, 36, 60}, {85, 36, 77}, {65, 52, 39}, {80, 89, 39}, {40, 42, 58}, {40, 75, 85}, {56, 42, 70}, {75, 60, 45}, {48, 73, 55}, {48, 80, 64}, {51, 68, 85}, {72, 90, 54}, {57, 76, 95}, {60, 87, 63}, {80, 100, 60}, {72, 65, 97}]\n"
     ]
    }
   ],
   "source": [
    "nlist = []\n",
    "for a in range(1,101) :\n",
    "    for b in range(1,101) :\n",
    "        for c in range(1,101):\n",
    "        \n",
    "            if a**2 == b**2 + c**2 or b**2 == a**2 + c**2 or c**2 == a**2 + b**2 :\n",
    "                borders={a,b,c}\n",
    "                if borders not in nlist :\n",
    "                    nlist.append(borders)\n",
    "            \n",
    "\n",
    "print(len(nlist), nlist, sep=\"\\n\")"
   ]
  },
  {
   "cell_type": "code",
   "execution_count": 30,
   "metadata": {},
   "outputs": [
    {
     "name": "stdout",
     "output_type": "stream",
     "text": [
      "Under these conditions, there are 52 unique Pythagorean triangles : [{3, 4, 5}, {8, 10, 6}, {5, 12, 13}, {9, 12, 15}, {8, 17, 15}, {16, 20, 12}, {24, 25, 7}, {25, 20, 15}, {24, 26, 10}, {21, 20, 29}, {24, 18, 30}, {16, 34, 30}, {35, 28, 21}, {35, 12, 37}, {15, 36, 39}, {40, 24, 32}, {40, 41, 9}, {27, 36, 45}, {48, 50, 14}, {40, 50, 30}, {24, 51, 45}, {48, 52, 20}, {45, 28, 53}, {33, 44, 55}, {40, 58, 42}, {48, 60, 36}, {11, 60, 61}, {16, 65, 63}, {65, 60, 25}, {56, 65, 33}, {65, 52, 39}, {32, 68, 60}, {56, 42, 70}, {48, 73, 55}, {24, 74, 70}, {72, 75, 21}, {75, 60, 45}, {72, 78, 30}, {80, 48, 64}, {80, 82, 18}, {13, 84, 85}, {77, 36, 85}, {40, 75, 85}, {51, 68, 85}, {60, 63, 87}, {80, 89, 39}, {72, 90, 54}, {35, 91, 84}, {57, 76, 95}, {65, 97, 72}, {96, 100, 28}, {80, 100, 60}]\n"
     ]
    }
   ],
   "source": [
    "### EDEBALI\n",
    "pythagoras = []\n",
    "for i in range(1,101):\n",
    "    for j in range(1,101):\n",
    "            for k in range(1,101):\n",
    "                if i+j >k > abs(i-j) :\n",
    "                    if j**2 + k**2 == i**2:\n",
    "                        borders = {i, j, k}\n",
    "                        if borders not in pythagoras:\n",
    "                            pythagoras.append(borders)\n",
    "\n",
    "print(f'Under these conditions, there are {len(pythagoras)} unique Pythagorean triangles : {pythagoras}')"
   ]
  },
  {
   "cell_type": "markdown",
   "metadata": {},
   "source": [
    "2520 is the smallest number that can be divided by each of the numbers from 1 to 10 without any remainder.\n",
    "\n",
    "What is the smallest positive number that is evenly divisible by all of the numbers from 1 to 20?"
   ]
  },
  {
   "cell_type": "code",
   "execution_count": 19,
   "metadata": {},
   "outputs": [
    {
     "name": "stdout",
     "output_type": "stream",
     "text": [
      "232792560\n"
     ]
    }
   ],
   "source": [
    "num = 2520\n",
    "while True:\n",
    "    count = 1\n",
    "    for i in range(11,20):\n",
    "        if not num % i :\n",
    "            count += 1\n",
    "    if count == 10:\n",
    "        print(num)\n",
    "        break\n",
    "    num += 20"
   ]
  },
  {
   "cell_type": "code",
   "execution_count": 2,
   "metadata": {},
   "outputs": [
    {
     "name": "stdout",
     "output_type": "stream",
     "text": [
      "232792560\n"
     ]
    }
   ],
   "source": [
    "num = 2520\n",
    "while True:\n",
    "    count = 1\n",
    "    for i in range(11,20):\n",
    "        if num % i :\n",
    "            break\n",
    "        else : \n",
    "            count += 1\n",
    "    if count == 10:\n",
    "        print(num)\n",
    "        break\n",
    "    num += 20"
   ]
  },
  {
   "cell_type": "markdown",
   "metadata": {},
   "source": [
    "1. QUESTİON\n",
    "Task : Let's say you left a message before that prints a password you need. To see the password you left, you need to enter your name and the program should recognize you.Write a program that \n",
    "Takes the first name from the user and compares it to yours,\n",
    "Then if the name the user entered is the same as yours, print out such as : \"Hello, Joseph! The password is : @12\",\n",
    "If the name the user entered is not the same as yours, print out such as : \"Hello, Amina! See you later.\""
   ]
  },
  {
   "cell_type": "code",
   "execution_count": 50,
   "metadata": {},
   "outputs": [
    {
     "name": "stdout",
     "output_type": "stream",
     "text": [
      "Hello, Ahmet! See you later.\n"
     ]
    }
   ],
   "source": [
    "name = \"hans\"\n",
    "password = \"2$1%54&635\"\n",
    "\n",
    "input_name = input(\"Enter a name : \")\n",
    "\n",
    "if input_name == name :\n",
    "    print(f\"Hello, {name}! The password is : {password} \")\n",
    "else :\n",
    "    print(f\"Hello, {input_name.title()}! See you later.\")"
   ]
  },
  {
   "cell_type": "markdown",
   "metadata": {},
   "source": [
    "2. QUESTİON\n",
    "Task:\n",
    "Find out if a given number is an \"Armstrong Number\".\n",
    "An n-digit number that is the sum of the nth powers of its digits is called an n-Armstrong number. Examples :\n",
    "371 = 33 + 73 + 13;\n",
    "9474 = 94 + 44 + 74 + 44;\n",
    "93084 = 95 + 35 + 05 + 85 + 45.\n",
    "Write a Python program that;\n",
    "takes a positive integer number from the user,\n",
    "checks the entered number if it is Armstrong,\n",
    "consider the negative, float and any entries other than numeric values then display a warning message to the user."
   ]
  },
  {
   "cell_type": "code",
   "execution_count": 9,
   "metadata": {},
   "outputs": [
    {
     "name": "stdout",
     "output_type": "stream",
     "text": [
      "371 is an armstrong number.\n"
     ]
    }
   ],
   "source": [
    "while True :\n",
    "    number = input(\"Enter a positive number : \")\n",
    "    power = len(number)\n",
    "    summ = 0\n",
    "\n",
    "    if not number.isdigit() :\n",
    "        print(number, \"is not a valid entry! Enter a valid input.\")\n",
    "\n",
    "    elif int(number) >= 0 :\n",
    "\n",
    "        for i in number :\n",
    "            summ += int(i) ** power\n",
    "\n",
    "        if summ == int(number) :\n",
    "            print(number, \"is an armstrong number.\")\n",
    "            break\n",
    "        else :\n",
    "            print(number, \" is not a armstrong number. \")\n",
    "            break "
   ]
  },
  {
   "cell_type": "code",
   "execution_count": 51,
   "metadata": {},
   "outputs": [
    {
     "name": "stdout",
     "output_type": "stream",
     "text": [
      "[1, 153, 370, 371, 407]\n"
     ]
    }
   ],
   "source": [
    "armstrong_numbers = []\n",
    "def armstrong_number(number) :\n",
    "    summ = 0\n",
    "    for i in range(len(str(number))):\n",
    "        summ += int(str(number)[i]) **3\n",
    "    return summ == number\n",
    "\n",
    "for i in range(1,1001) :\n",
    "    if armstrong_number(i):\n",
    "        armstrong_numbers.append(i)\n",
    "\n",
    "print(armstrong_numbers) "
   ]
  }
 ],
 "metadata": {
  "interpreter": {
   "hash": "102296e92056703233172f32d1443698de791a2ed6ee02edd4a1639040ea0cb4"
  },
  "kernelspec": {
   "display_name": "Python 3.10.0 64-bit",
   "language": "python",
   "name": "python3"
  },
  "language_info": {
   "codemirror_mode": {
    "name": "ipython",
    "version": 3
   },
   "file_extension": ".py",
   "mimetype": "text/x-python",
   "name": "python",
   "nbconvert_exporter": "python",
   "pygments_lexer": "ipython3",
   "version": "3.10.0"
  },
  "orig_nbformat": 4
 },
 "nbformat": 4,
 "nbformat_minor": 2
}
