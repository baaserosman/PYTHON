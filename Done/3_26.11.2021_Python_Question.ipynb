{
  "cells": [
    {
      "cell_type": "markdown",
      "metadata": {
        "id": "UO4WBUc0Wtse"
      },
      "source": [
        "                                Exercise-1\n",
        "\n",
        "Convert a Number to Base-2\n",
        "Create a function that returns a base-2 (binary) representation of a base-10 (decimal) string number. To convert is simple: ((2) means base-2 and (10) means base-10) 010101001(2) = 1 + 8 + 32 + 128.\n",
        "\n",
        "Going from right to left, the value of the most right bit is 1, now from that every bit to the left will be x2 the value, value of an 8 bit binary numbers are (256, 128, 64, 32, 16, 8, 4, 2, 1).\n",
        "\n",
        "Examples\n",
        "\n",
        "binary(1) ➞ \"1\"\n",
        "\n",
        "// 1 * 1 = 1\n",
        "\n",
        "binary(5) ➞ \"101\"\n",
        "\n",
        "// 1 * 1 + 1 * 4 = 5\n",
        "\n",
        "binary(10) ➞ \"1010\"\n",
        "\n",
        "// 1 * 2 + 1 * 8 = 10\n",
        "\n",
        "Note (Don't use bin() function)"
      ]
    },
    {
      "cell_type": "code",
      "execution_count": 3,
      "metadata": {
        "id": "2Ao5oWrUWpVY"
      },
      "outputs": [
        {
          "name": "stdout",
          "output_type": "stream",
          "text": [
            "174\n"
          ]
        }
      ],
      "source": [
        "# Exercise-1\n",
        "\n",
        "binary_sayı = input(\"Binary bir sayı gir : \")\n",
        "binary_sayı = list(binary_sayı)\n",
        "toplam = 0\n",
        "a = len(binary_sayı)\n",
        "\n",
        "for i in binary_sayı :\n",
        "    toplam += int(i) * 2**(a-1)\n",
        "    a -= 1\n",
        "print(toplam)"
      ]
    },
    {
      "cell_type": "markdown",
      "metadata": {
        "id": "0nPBCPa6WxKP"
      },
      "source": [
        "                              Exercise-2 \n",
        "Check if One Array can be Nested in Another\n",
        "\n",
        "Create a function that returns true if the first array can be nested inside the second.\n",
        "\n",
        "arr1 can be nested inside arr2 if:\n",
        "\n",
        "arr1's min is greater than arr2's min.\n",
        "\n",
        "arr1's max is less than arr2's max.\n",
        "\n",
        "Examples\n",
        "\n",
        "canNest([1, 2, 3, 4], [0, 6]) ➞ True\n",
        "\n",
        "canNest([3, 1], [4, 0]) ➞ True\n",
        "\n",
        "canNest([9, 9, 8], [8, 9]) ➞ False\n",
        "\n",
        "canNest([1, 2, 3, 4], [2, 3]) ➞ False\n",
        "\n",
        "[ ]\n"
      ]
    },
    {
      "cell_type": "code",
      "execution_count": 6,
      "metadata": {
        "id": "vSpMNTCpW3QQ"
      },
      "outputs": [
        {
          "name": "stdout",
          "output_type": "stream",
          "text": [
            "canNest(['9', '9', '8'], ['8', '9'] --> False\n"
          ]
        }
      ],
      "source": [
        " # Exercise-2 \n",
        " \n",
        " a = list(input(\"Sayılar gir : \"))\n",
        " b = list(input(\"Sayılar gir :\"))\n",
        "\n",
        " if min(a) > min(b) and max(a) < max(b):\n",
        "    print(f\"canNest({a}, {b} --> True\")\n",
        "else :\n",
        "    print(f\"canNest({a}, {b} --> False\")"
      ]
    },
    {
      "cell_type": "markdown",
      "metadata": {
        "id": "f9mSIheVW3kw"
      },
      "source": [
        "                                    Exercise-3\n",
        "Move Capital Letters to the Front\n",
        "\n",
        "Create a function that moves all capital letters to the front of a word.\n",
        "\n",
        "Examples\n",
        "\n",
        "cap_to_front(\"hApPy\") ➞ \"APhpy\"\n",
        "\n",
        "cap_to_front(\"moveMENT\") ➞ \"MENTmove\"\n",
        "\n",
        "cap_to_front(\"shOrtCAKE\") ➞ \"OCAKEshrt\""
      ]
    },
    {
      "cell_type": "code",
      "execution_count": 30,
      "metadata": {
        "id": "m9ehWO0HW7f7"
      },
      "outputs": [
        {
          "name": "stdout",
          "output_type": "stream",
          "text": [
            "OMNsa\n"
          ]
        }
      ],
      "source": [
        "#Exercise-3\n",
        "\n",
        "kelime = (input(\"Bazı harfleri büyük olan bir kelime yaz : \"))\n",
        "büyük = \"\"\n",
        "kücük = \"\"\n",
        "for i in range(len(kelime)) : \n",
        "    if ord(kelime[i]) < 97 :\n",
        "        büyük += kelime[i]\n",
        "    else :\n",
        "        kücük += kelime[i]\n",
        "print(büyük + kücük)"
      ]
    },
    {
      "cell_type": "code",
      "execution_count": 24,
      "metadata": {},
      "outputs": [
        {
          "data": {
            "text/plain": [
              "97"
            ]
          },
          "execution_count": 24,
          "metadata": {},
          "output_type": "execute_result"
        }
      ],
      "source": [
        "ord(\"a\")"
      ]
    },
    {
      "cell_type": "code",
      "execution_count": 36,
      "metadata": {},
      "outputs": [
        {
          "data": {
            "text/plain": [
              "'a'"
            ]
          },
          "execution_count": 36,
          "metadata": {},
          "output_type": "execute_result"
        }
      ],
      "source": [
        "chr(97)"
      ]
    },
    {
      "cell_type": "markdown",
      "metadata": {
        "id": "VIH8NS-1W7wl"
      },
      "source": [
        "                                  Exercise-4\n",
        "The Reverser!\n",
        "\n",
        "The \"Reverser\" takes a string as input and returns that string in reverse order, with the opposite case.\n",
        "\n",
        "Examples\n",
        "\n",
        "reverse(\"Hello World\") ➞ \"DLROw OLLEh\"\n",
        "\n",
        "reverse(\"ReVeRsE\") ➞ \"eSrEvEr\"\n",
        "\n",
        "reverse(\"Radar\") ➞ \"RADAr\"\n",
        "\n",
        "Notes\n",
        "\n",
        "There will be no punctuation in any of the test cases."
      ]
    },
    {
      "cell_type": "code",
      "execution_count": 5,
      "metadata": {
        "id": "Iuvqb85DXAbe"
      },
      "outputs": [
        {
          "data": {
            "text/plain": [
              "'DLROw OLLEh'"
            ]
          },
          "execution_count": 5,
          "metadata": {},
          "output_type": "execute_result"
        }
      ],
      "source": [
        "def reversed(text):\n",
        "    text = text[::-1].swapcase()\n",
        "    return text\n",
        "\n",
        "reversed(\"Hello World\")"
      ]
    },
    {
      "cell_type": "code",
      "execution_count": 7,
      "metadata": {},
      "outputs": [
        {
          "name": "stdout",
          "output_type": "stream",
          "text": [
            "DLROw OLLEh\n"
          ]
        }
      ],
      "source": [
        "text = \"Hello World\"\n",
        "A = text.swapcase()\n",
        "print(A[::-1])"
      ]
    },
    {
      "cell_type": "markdown",
      "metadata": {
        "id": "bgeGq8lBXAxu"
      },
      "source": [
        "                                    Exercise-5\n",
        "Create a function that retrieves every number that is strictly larger than every number that follows it.\n",
        "Examples\n",
        "\n",
        "[3, 13, 11, 2, 1, 9, 5] ➞ [13, 11, 9, 5]\n",
        "\n",
        "13 is larger than all numbers to its right, etc.\n",
        "\n",
        "[5, 5, 5, 5, 5, 5] ➞ [5]\n",
        "\n",
        "Must be strictly larger.\n",
        "\n",
        "Always include the last number.\n",
        "\n",
        "[5, 9, 8, 7] ➞ [9, 8, 7]\n",
        "\n",
        "Notes\n",
        "\n",
        "The last number in an array is trivially strictly larger than all numbers that follow it (no numbers follow it)."
      ]
    },
    {
      "cell_type": "code",
      "execution_count": 69,
      "metadata": {
        "id": "LEaGU0DcXBul"
      },
      "outputs": [
        {
          "name": "stdout",
          "output_type": "stream",
          "text": [
            "[35, 9, 5]\n"
          ]
        }
      ],
      "source": [
        "liste1 = [3, 14, 13, 11, 35, 2, 1, 9, 5]\n",
        "nev = []\n",
        "while len(liste1) > 0 :\n",
        "    nev.append(max(liste1))\n",
        "    liste1 = liste1[(liste1.index(max(liste1))+1) : ]\n",
        "print( nev )"
      ]
    },
    {
      "cell_type": "code",
      "execution_count": 70,
      "metadata": {},
      "outputs": [
        {
          "data": {
            "text/plain": [
              "1"
            ]
          },
          "execution_count": 70,
          "metadata": {},
          "output_type": "execute_result"
        }
      ],
      "source": [
        "liste1 = [3, 13, 11, 2, 1, 9, 5]\n",
        "liste1.index(max(liste1))"
      ]
    },
    {
      "cell_type": "markdown",
      "metadata": {
        "id": "ydJC7lTMXCH1"
      },
      "source": [
        "                                    Exercise - 6\n",
        "C * ns * r * d Str * ngs\n",
        "\n",
        "Someone has attempted to censor my strings by replacing every vowel with a *, l*k* th*s. Luckily, I've been able to find the vowels that were removed.\n",
        "\n",
        "Given a censored string and a string of the censored vowels, return the original uncensored string.\n",
        "\n",
        "Example\n",
        "\n",
        "uncensor(\"Wh * r * d * d my v * w * ls g * ?\", \"eeioeo\") ➞ \"Where did my vowels go?\"\n",
        "\n",
        "uncensor(\"abcd\", \"\") ➞ \"abcd\"\n",
        "\n",
        "uncensor(\"* PP * RC * S * \", \"UEAE\") ➞ \"UPPERCASE\"\n",
        "\n",
        "Notes\n",
        "\n",
        "The vowels are given in the correct order.\n",
        "\n",
        "The number of vowels will match the number of * characters in the censored string."
      ]
    },
    {
      "cell_type": "code",
      "execution_count": 8,
      "metadata": {
        "id": "MoUpvXSEXFmL"
      },
      "outputs": [
        {
          "name": "stdout",
          "output_type": "stream",
          "text": [
            "Where did my vowels go?\n"
          ]
        }
      ],
      "source": [
        "text =\"Wh*r* d*d my v*w*ls g*?\" \n",
        "vowels = \"eeioeo\"\n",
        "a = \"\"\n",
        "count = 0\n",
        "for i in text : \n",
        "    if i == \"*\" : \n",
        "        a += vowels[count]\n",
        "        count += 1\n",
        "    else :\n",
        "        a += i\n",
        "print(a)"
      ]
    },
    {
      "cell_type": "markdown",
      "metadata": {
        "id": "5HeJI99aXF2r"
      },
      "source": [
        "                                    Exercise -7\n",
        "                                    \n",
        "There is a string, s , of lowercase English letters that is repeated infinitely many times. Given an integer, n , find and print the number of letter a's in the first n letters of the infinite string.\n",
        "\n",
        "Example\n",
        "s = \"abcac\"\n",
        "\n",
        "n = 10\n",
        "\n",
        "The substring we consider is \"abcacabcac\", the first 10 characters of the infinite string. There are 4  occurrences of a in the substring."
      ]
    },
    {
      "cell_type": "code",
      "execution_count": 38,
      "metadata": {
        "id": "M7_acFlkXPLe"
      },
      "outputs": [
        {
          "data": {
            "text/plain": [
              "4"
            ]
          },
          "execution_count": 38,
          "metadata": {},
          "output_type": "execute_result"
        }
      ],
      "source": [
        "def repeated(s,n) :\n",
        "    return (s * (n // len(s)) + s[0 : n % len(s)]).count(\"a\")\n",
        " \n",
        "repeated(\"abcac\" , 10)"
      ]
    },
    {
      "cell_type": "code",
      "execution_count": 39,
      "metadata": {},
      "outputs": [
        {
          "data": {
            "text/plain": [
              "9"
            ]
          },
          "execution_count": 39,
          "metadata": {},
          "output_type": "execute_result"
        }
      ],
      "source": [
        "repeated(\"abcabc\", 25)"
      ]
    },
    {
      "cell_type": "markdown",
      "metadata": {
        "id": "G6s3c68YXPdV"
      },
      "source": [
        "                                Exercise -8\n",
        "Nearest Vowel\n",
        "\n",
        "Given a letter, created a function which returns the nearest vowel to the letter. If two vowels are equidistant to the given letter, return the earlier vowel.\n",
        "\n",
        "Examples\n",
        "\n",
        "nearestVowel(\"b\") ➞ \"a\"\n",
        "\n",
        "nearestVowel(\"s\") ➞ \"u\"\n",
        "\n",
        "nearestVowel(\"c\") ➞ \"a\"\n",
        "\n",
        "nearestVowel(\"i\") ➞ \"i\"\n",
        "\n",
        "Notes\n",
        "\n",
        "All letters will be given in lowercase.\n",
        "\n",
        "There will be no alphabet wrapping involved, meaning the closest vowel to \"z\" should return \"u\", not \"a\"."
      ]
    },
    {
      "cell_type": "code",
      "execution_count": 50,
      "metadata": {},
      "outputs": [
        {
          "name": "stdout",
          "output_type": "stream",
          "text": [
            "[1, 3, 207, 7, 13, 148, 19, 154]\n",
            "1\n",
            "0\n",
            "a\n"
          ]
        }
      ],
      "source": [
        "mystring = \"b\"\n",
        "vowels = \"aeıioöuü\"\n",
        "order = []\n",
        "\n",
        "for i in vowels :\n",
        "    order.append(abs(ord(i) - ord(mystring)))\n",
        "\n",
        "print(order)\n",
        "print(min(order))\n",
        "print(order.index(min(order)))\n",
        "print(vowels[order.index(min(order))])\n"
      ]
    },
    {
      "cell_type": "code",
      "execution_count": 53,
      "metadata": {},
      "outputs": [
        {
          "data": {
            "text/plain": [
              "'a'"
            ]
          },
          "execution_count": 53,
          "metadata": {},
          "output_type": "execute_result"
        }
      ],
      "source": [
        "def nearestvowel(mystring) :\n",
        "    vowels = \"aeıioöuü\"\n",
        "    for i in vowels :\n",
        "        order.append(abs(ord(i) - ord(mystring)))\n",
        "    return vowels[order.index(min(order))]\n",
        "\n",
        "nearestvowel(\"t\")"
      ]
    },
    {
      "cell_type": "code",
      "execution_count": 1,
      "metadata": {},
      "outputs": [
        {
          "name": "stdout",
          "output_type": "stream",
          "text": [
            "5 7 9 11 13 15 17 19 21 23\n"
          ]
        }
      ],
      "source": [
        "print(*range(5,25,2))"
      ]
    },
    {
      "cell_type": "code",
      "execution_count": 6,
      "metadata": {},
      "outputs": [
        {
          "name": "stdout",
          "output_type": "stream",
          "text": [
            "Help on built-in function all in module builtins:\n",
            "\n",
            "all(iterable, /)\n",
            "    Return True if bool(x) is True for all values x in the iterable.\n",
            "    \n",
            "    If the iterable is empty, return True.\n",
            "\n"
          ]
        }
      ],
      "source": [
        "help(all)"
      ]
    },
    {
      "cell_type": "code",
      "execution_count": 7,
      "metadata": {},
      "outputs": [
        {
          "name": "stdout",
          "output_type": "stream",
          "text": [
            "Help on built-in function any in module builtins:\n",
            "\n",
            "any(iterable, /)\n",
            "    Return True if bool(x) is True for any x in the iterable.\n",
            "    \n",
            "    If the iterable is empty, return False.\n",
            "\n"
          ]
        }
      ],
      "source": [
        "help(any)"
      ]
    },
    {
      "cell_type": "code",
      "execution_count": 13,
      "metadata": {},
      "outputs": [
        {
          "data": {
            "text/plain": [
              "<filter at 0x19b90847d30>"
            ]
          },
          "execution_count": 13,
          "metadata": {},
          "output_type": "execute_result"
        }
      ],
      "source": [
        "listA = [\"susan\", \"tom\", \"False\", False, 0, 22]\n",
        "filtered_list = filter(None, listA)\n",
        "filtered_list"
      ]
    },
    {
      "cell_type": "code",
      "execution_count": 14,
      "metadata": {},
      "outputs": [
        {
          "data": {
            "text/plain": [
              "['susan', 'tom', 'False', 22]"
            ]
          },
          "execution_count": 14,
          "metadata": {},
          "output_type": "execute_result"
        }
      ],
      "source": [
        "list(filtered_list)"
      ]
    },
    {
      "cell_type": "code",
      "execution_count": 15,
      "metadata": {},
      "outputs": [],
      "source": [
        "for i in filtered_list:\n",
        "    print(i)"
      ]
    },
    {
      "cell_type": "code",
      "execution_count": null,
      "metadata": {},
      "outputs": [],
      "source": [
        "liste = [range(2,101)]"
      ]
    },
    {
      "cell_type": "code",
      "execution_count": 21,
      "metadata": {},
      "outputs": [
        {
          "ename": "TypeError",
          "evalue": "sum() takes at most 2 arguments (4 given)",
          "output_type": "error",
          "traceback": [
            "\u001b[1;31m---------------------------------------------------------------------------\u001b[0m",
            "\u001b[1;31mTypeError\u001b[0m                                 Traceback (most recent call last)",
            "\u001b[1;32m~\\AppData\\Local\\Temp/ipykernel_22628/2787821918.py\u001b[0m in \u001b[0;36m<module>\u001b[1;34m\u001b[0m\n\u001b[1;32m----> 1\u001b[1;33m \u001b[0msum\u001b[0m\u001b[1;33m(\u001b[0m\u001b[1;34m\"1\"\u001b[0m\u001b[1;33m,\u001b[0m \u001b[1;34m\"2\"\u001b[0m\u001b[1;33m,\u001b[0m \u001b[1;34m\"3\"\u001b[0m\u001b[1;33m,\u001b[0m \u001b[1;36m0\u001b[0m\u001b[1;33m)\u001b[0m\u001b[1;33m\u001b[0m\u001b[1;33m\u001b[0m\u001b[0m\n\u001b[0m",
            "\u001b[1;31mTypeError\u001b[0m: sum() takes at most 2 arguments (4 given)"
          ]
        }
      ],
      "source": [
        "sum(\"1\", \"2\", \"3\", 0)"
      ]
    },
    {
      "cell_type": "code",
      "execution_count": 23,
      "metadata": {},
      "outputs": [
        {
          "data": {
            "text/plain": [
              "23"
            ]
          },
          "execution_count": 23,
          "metadata": {},
          "output_type": "execute_result"
        }
      ],
      "source": [
        "sum([1,2,3,4,5,6],2)"
      ]
    },
    {
      "cell_type": "code",
      "execution_count": 24,
      "metadata": {},
      "outputs": [
        {
          "data": {
            "text/plain": [
              "106"
            ]
          },
          "execution_count": 24,
          "metadata": {},
          "output_type": "execute_result"
        }
      ],
      "source": [
        "liste = [1,2,3,4]\n",
        "sum([1, 2, 3], sum(liste)**2)"
      ]
    },
    {
      "cell_type": "code",
      "execution_count": 25,
      "metadata": {},
      "outputs": [
        {
          "data": {
            "text/plain": [
              "11.0"
            ]
          },
          "execution_count": 25,
          "metadata": {},
          "output_type": "execute_result"
        }
      ],
      "source": [
        "liste = [1,2,3,4]\n",
        "sum([1, 2, 3], sum(liste)/2)"
      ]
    },
    {
      "cell_type": "code",
      "execution_count": 26,
      "metadata": {},
      "outputs": [
        {
          "data": {
            "text/plain": [
              "14"
            ]
          },
          "execution_count": 26,
          "metadata": {},
          "output_type": "execute_result"
        }
      ],
      "source": [
        "round(13.5)"
      ]
    },
    {
      "cell_type": "code",
      "execution_count": 27,
      "metadata": {},
      "outputs": [
        {
          "data": {
            "text/plain": [
              "14"
            ]
          },
          "execution_count": 27,
          "metadata": {},
          "output_type": "execute_result"
        }
      ],
      "source": [
        "round(14.5)"
      ]
    },
    {
      "cell_type": "code",
      "execution_count": 28,
      "metadata": {},
      "outputs": [],
      "source": [
        "def ilk_fonksiyon(x,y) :\n",
        "    print(x**2 + y**2)"
      ]
    },
    {
      "cell_type": "code",
      "execution_count": 29,
      "metadata": {},
      "outputs": [
        {
          "data": {
            "text/plain": [
              "function"
            ]
          },
          "execution_count": 29,
          "metadata": {},
          "output_type": "execute_result"
        }
      ],
      "source": [
        "type(ilk_fonksiyon)"
      ]
    },
    {
      "cell_type": "code",
      "execution_count": 31,
      "metadata": {},
      "outputs": [
        {
          "name": "stdout",
          "output_type": "stream",
          "text": [
            "25\n"
          ]
        }
      ],
      "source": [
        "ilk_fonksiyon(3,4)"
      ]
    },
    {
      "cell_type": "markdown",
      "metadata": {},
      "source": []
    },
    {
      "cell_type": "code",
      "execution_count": null,
      "metadata": {},
      "outputs": [],
      "source": []
    }
  ],
  "metadata": {
    "colab": {
      "name": "workshop-26.11.ipynb",
      "provenance": []
    },
    "kernelspec": {
      "display_name": "Python 3",
      "name": "python3"
    },
    "language_info": {
      "codemirror_mode": {
        "name": "ipython",
        "version": 3
      },
      "file_extension": ".py",
      "mimetype": "text/x-python",
      "name": "python",
      "nbconvert_exporter": "python",
      "pygments_lexer": "ipython3",
      "version": "3.10.0"
    }
  },
  "nbformat": 4,
  "nbformat_minor": 0
}
