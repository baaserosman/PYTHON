{
 "cells": [
  {
   "cell_type": "markdown",
   "metadata": {},
   "source": [
    "# EXERCISE 1"
   ]
  },
  {
   "cell_type": "markdown",
   "metadata": {},
   "source": [
    "Write a Python code that displays the unique vowels found in a word entered by the user."
   ]
  },
  {
   "cell_type": "code",
   "execution_count": 3,
   "metadata": {},
   "outputs": [
    {
     "name": "stdout",
     "output_type": "stream",
     "text": [
      "['a', 'U', 'A']\n"
     ]
    }
   ],
   "source": [
    "def unique_vowels(text) : \n",
    "    text = list(text)\n",
    "    nlist = []\n",
    "    vowels = (\"a\",\"e\",\"ı\",\"i\",\"o\",\"ö\",\"u\",\"ü\",\"A\",\"E\",\"I\",\"İ\",\"O\",\"Ö\",\"U\",\"Ü\")\n",
    "    for i in text : \n",
    "        if i in vowels and text.count(i) == 1 : \n",
    "            nlist.append(i) \n",
    "\n",
    "    return nlist\n",
    "\n",
    "print(unique_vowels(\"CLaRUSWAY\"))"
   ]
  },
  {
   "cell_type": "markdown",
   "metadata": {},
   "source": [
    "# EXERCISE 2"
   ]
  },
  {
   "cell_type": "markdown",
   "metadata": {},
   "source": [
    "Write a Python program to find those numbers which satisfies the following bullets:\n",
    "\n",
    "- divisible by 7\n",
    "- multiple of 3\n",
    "- between 100 and 500 (both included)."
   ]
  },
  {
   "cell_type": "code",
   "execution_count": 5,
   "metadata": {},
   "outputs": [
    {
     "name": "stdout",
     "output_type": "stream",
     "text": [
      "[105, 126, 147, 168, 189, 210, 231, 252, 273, 294, 315, 336, 357, 378, 399, 420, 441, 462, 483]\n"
     ]
    }
   ],
   "source": [
    "my_number_list = []\n",
    "for i in range(100, 501):\n",
    "    if i % 7 == 0 and i % 3 == 0 :\n",
    "        my_number_list.append(i)\n",
    "    \n",
    "print(my_number_list)"
   ]
  },
  {
   "cell_type": "markdown",
   "metadata": {},
   "source": [
    "# EXERCISE 3"
   ]
  },
  {
   "cell_type": "markdown",
   "metadata": {},
   "source": [
    "Write a Python program that accepts the string and calculates the number of digits and letters in the string seperately."
   ]
  },
  {
   "cell_type": "code",
   "execution_count": 3,
   "metadata": {},
   "outputs": [
    {
     "name": "stdout",
     "output_type": "stream",
     "text": [
      "[2, 0, 2, 1]\n",
      "['C', 'l', 'a', 'r', 'u', 's', 'w', 'a', 'y']\n",
      "number of digits = 4, number of letters = 9\n"
     ]
    }
   ],
   "source": [
    "text = input(\"Enter a text : \")\n",
    "digits = []\n",
    "letters = []\n",
    "for i in text :\n",
    "    if i.isdigit(): \n",
    "        digits.append(int(i))\n",
    "    elif i.isalpha() :\n",
    "        letters.append(i)\n",
    "\n",
    "print(digits, letters , sep=\"\\n\")\n",
    "print(f\"number of digits = {len(digits)}, number of letters = {len(letters)}\")"
   ]
  },
  {
   "cell_type": "markdown",
   "metadata": {},
   "source": [
    "# EXERCISE 4"
   ]
  },
  {
   "cell_type": "markdown",
   "metadata": {},
   "source": [
    "Write a Python program that calculates a square root using Newton's Method."
   ]
  },
  {
   "cell_type": "code",
   "execution_count": null,
   "metadata": {},
   "outputs": [],
   "source": []
  },
  {
   "cell_type": "markdown",
   "metadata": {},
   "source": [
    "# EXERCISE 5"
   ]
  },
  {
   "cell_type": "markdown",
   "metadata": {},
   "source": [
    "Program to remove vowels from a String"
   ]
  },
  {
   "cell_type": "code",
   "execution_count": 17,
   "metadata": {},
   "outputs": [
    {
     "name": "stdout",
     "output_type": "stream",
     "text": [
      "Clrswy nln Btcmp\n"
     ]
    }
   ],
   "source": [
    "def remove_vowels(text) :\n",
    "    vowels = (\"a\",\"e\",\"ı\",\"i\",\"o\",\"ö\",\"u\",\"ü\",\"A\",\"E\",\"I\",\"İ\",\"O\",\"Ö\",\"U\",\"Ü\")\n",
    "    text1 = \"\"\n",
    "    for i in text :\n",
    "        if i in vowels : \n",
    "            text1 += \"\"\n",
    "        else : \n",
    "            text1 += i\n",
    "    return text1\n",
    "\n",
    "print(remove_vowels(\"Clarusway Online Bootcamp\")) "
   ]
  },
  {
   "cell_type": "markdown",
   "metadata": {},
   "source": [
    "# EXERCISE 6"
   ]
  },
  {
   "cell_type": "markdown",
   "metadata": {},
   "source": [
    "Given a string of odd length greater 7, return a string made of the middle three chars of a given String"
   ]
  },
  {
   "cell_type": "code",
   "execution_count": 1,
   "metadata": {},
   "outputs": [
    {
     "name": "stdout",
     "output_type": "stream",
     "text": [
      "rus\n"
     ]
    }
   ],
   "source": [
    "def string(text):\n",
    "    if len(text) > 7 and len(text) % 2 == 1 :\n",
    "\n",
    "        return text[(len(text) // 2) - 1  : (len(text) // 2) + 2 ]\n",
    "\n",
    "print(string(\"clarusway\"))"
   ]
  },
  {
   "cell_type": "code",
   "execution_count": 18,
   "metadata": {},
   "outputs": [
    {
     "data": {
      "text/plain": [
       "'rus'"
      ]
     },
     "execution_count": 18,
     "metadata": {},
     "output_type": "execute_result"
    }
   ],
   "source": [
    "string = \"Clarusway\"\n",
    "midIndex = int((len(string)) / 2)\n",
    "string[midIndex-1:midIndex+2]"
   ]
  },
  {
   "cell_type": "markdown",
   "metadata": {},
   "source": [
    "# EXERCISE 7"
   ]
  },
  {
   "cell_type": "markdown",
   "metadata": {},
   "source": [
    "Given 2 strings, s1 and s2, create a new string by appending s2 in the middle of s1"
   ]
  },
  {
   "cell_type": "code",
   "execution_count": 9,
   "metadata": {},
   "outputs": [
    {
     "name": "stdout",
     "output_type": "stream",
     "text": [
      "aea\n",
      "aa\n",
      "None\n"
     ]
    }
   ],
   "source": [
    "s1 = input(\"Enter first text : \")\n",
    "s2 = input(\"Enter second text : \")\n",
    "print(s1)\n",
    "print(s2)\n",
    "a = len(s1) // 2\n",
    "nevlist = list(s1)\n",
    "print(nevlist.insert(a, \"s2\"))"
   ]
  },
  {
   "cell_type": "code",
   "execution_count": 15,
   "metadata": {},
   "outputs": [
    {
     "name": "stdout",
     "output_type": "stream",
     "text": [
      "CLARkaranUSWAY\n"
     ]
    }
   ],
   "source": [
    "s1 = input(\"Enter first text : \")\n",
    "s2 = input(\"Enter second text : \")\n",
    "a = len(s1) // 2\n",
    "nevlist = list(s1)\n",
    "nevlist.insert(a, s2)\n",
    "print(\"\".join(nevlist))"
   ]
  },
  {
   "cell_type": "markdown",
   "metadata": {},
   "source": [
    "# ECERCISE 8"
   ]
  },
  {
   "cell_type": "markdown",
   "metadata": {},
   "source": [
    "Given 2 strings, s1, and s2 return a new string made of the first, middle and last char each input string"
   ]
  },
  {
   "cell_type": "code",
   "execution_count": null,
   "metadata": {},
   "outputs": [],
   "source": []
  },
  {
   "cell_type": "markdown",
   "metadata": {},
   "source": [
    "# EXERCISE 9"
   ]
  },
  {
   "cell_type": "markdown",
   "metadata": {},
   "source": [
    "Arrange String  such that lowercase letters should come firstcharacters"
   ]
  },
  {
   "cell_type": "code",
   "execution_count": 16,
   "metadata": {},
   "outputs": [
    {
     "name": "stdout",
     "output_type": "stream",
     "text": [
      "larswayeutshCUDLAND\n"
     ]
    }
   ],
   "source": [
    "def arrange_string(text) : \n",
    "    lowercase1 = \"\"\n",
    "    uppercase1 = \"\"\n",
    "    for i in text :\n",
    "        if i.isupper() :\n",
    "            uppercase1 += i\n",
    "        elif i.islower() :\n",
    "            lowercase1 += i\n",
    "\n",
    "    return lowercase1 + uppercase1\n",
    "\n",
    "print(arrange_string(\"ClarUswayDeutshLAND\"))"
   ]
  }
 ],
 "metadata": {
  "kernelspec": {
   "display_name": "Python 3",
   "language": "python",
   "name": "python3"
  },
  "language_info": {
   "codemirror_mode": {
    "name": "ipython",
    "version": 3
   },
   "file_extension": ".py",
   "mimetype": "text/x-python",
   "name": "python",
   "nbconvert_exporter": "python",
   "pygments_lexer": "ipython3",
   "version": "3.10.0"
  }
 },
 "nbformat": 4,
 "nbformat_minor": 2
}
