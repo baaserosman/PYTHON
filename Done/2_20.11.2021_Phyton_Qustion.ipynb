{
 "cells": [
  {
   "cell_type": "markdown",
   "metadata": {
    "id": "DpXjn6Vd9Yw6"
   },
   "source": [
    "1- Write a program to prompt for a score between 0.0 and 1.0. If the score is out of range, print an error. If the score is between 0.0 and 1.0, print a grade using the following table: Score Grade\n",
    "\n",
    "0.9 A\n",
    "\n",
    "0.8 B\n",
    "\n",
    "0.7 C\n",
    "\n",
    "0.6 D\n",
    "\n",
    "0.6 F\n",
    "\n",
    "If the user enters a value out of range, print a suitable error message and exit. For the test, enter a score of 0.85"
   ]
  },
  {
   "cell_type": "code",
   "execution_count": 6,
   "metadata": {},
   "outputs": [
    {
     "name": "stdout",
     "output_type": "stream",
     "text": [
      "B\n"
     ]
    }
   ],
   "source": [
    "sayi = float(input(\"Write a score between 0.0 and 1.0 : \"))\n",
    "if 0 < sayi < 1 :\n",
    "    if sayi >= 0.9:\n",
    "        print(\"A\")\n",
    "    elif sayi >= 0.8 :\n",
    "        print(\"B\")\n",
    "    elif  sayi >= 0.7 :\n",
    "        print(\"C\")\n",
    "    elif sayi >= 0.6 :\n",
    "        print(\"D\")\n",
    "    else :\n",
    "        print(\"F\")\n",
    "else : \n",
    "    print(\"Error! Score is out of range.\")"
   ]
  },
  {
   "cell_type": "markdown",
   "metadata": {
    "id": "k7W9-BOA9n7O"
   },
   "source": [
    "2- Yazi olarak girilen string ifadenin içindeki harfler tamamen büyük veya tamamen küçük ise True, küçük ve büyük harlerden oluşmuş ise False veren bir fonksiyon yazalım."
   ]
  },
  {
   "cell_type": "code",
   "execution_count": 1,
   "metadata": {},
   "outputs": [
    {
     "name": "stdout",
     "output_type": "stream",
     "text": [
      "False\n"
     ]
    }
   ],
   "source": [
    "text = input(\"Enter a text : \")\n",
    "\n",
    "if text == text.upper or text == text.lower:\n",
    "    print(\"True\")\n",
    "else :\n",
    "    print(\"False\")"
   ]
  },
  {
   "cell_type": "markdown",
   "metadata": {
    "id": "6PFwqEFO9nxy"
   },
   "source": [
    "3- Sayıyı kalansız bölen sayıları bulan bir fonksiyon yazalım"
   ]
  },
  {
   "cell_type": "code",
   "execution_count": 11,
   "metadata": {},
   "outputs": [
    {
     "name": "stdout",
     "output_type": "stream",
     "text": [
      "[1, 2, 5, 10, 25, 50, 125, 250]\n"
     ]
    }
   ],
   "source": [
    "number = int(input(\"bir sayı gir : \"))\n",
    "list1 = []\n",
    "for i in range(1, number+1) : \n",
    "    if number % i == 0 :\n",
    "        list1.append(i)\n",
    "print(list1)"
   ]
  },
  {
   "cell_type": "markdown",
   "metadata": {
    "id": "rgWFi-lZ9noI"
   },
   "source": [
    "4- Cümlenin içindeki sesli harfleri kaldıran bir fonksiyon yazalım.\n",
    "print(sessiz_yap(\"Hayat beni neden yoruyosun?:)\")) --> hyt bn ndn yrysn?:)"
   ]
  },
  {
   "cell_type": "code",
   "execution_count": 31,
   "metadata": {},
   "outputs": [
    {
     "name": "stdout",
     "output_type": "stream",
     "text": [
      "Merhaba. Benim adım Osman. 30 yaşındayım.   -->  Mrhb. Bnm dm Osmn. 30 yşndym. \n"
     ]
    }
   ],
   "source": [
    "cümle = input(\"Bir cümle yaz : \")\n",
    "a = [\"a\",\"e\",\"ı\",\"i\",\"o\",\"ö\",\"u\",\"ü\"]\n",
    "cümle1 = list(cümle)\n",
    "for i in cümle1 :\n",
    "    if i in a : \n",
    "        cümle1.remove(i)\n",
    "\n",
    "print(cümle, \" --> \" , \"\".join(cümle1))"
   ]
  },
  {
   "cell_type": "markdown",
   "metadata": {
    "id": "yxwOQSQe9ne1"
   },
   "source": [
    "5- Tarihi yüzyıla çeviren bir fonksiyon yazalım.\n",
    "print(yüzyıl_yap(1738)) --> 18. yüzyıl"
   ]
  },
  {
   "cell_type": "code",
   "execution_count": 15,
   "metadata": {},
   "outputs": [
    {
     "name": "stdout",
     "output_type": "stream",
     "text": [
      "1000 --> 11. yüzyıl\n"
     ]
    }
   ],
   "source": [
    "tarih = (input(\"Tarih gir : \"))\n",
    "tarih1 = list(tarih)\n",
    "liste1 = []\n",
    "if int(tarih) < 100:\n",
    "    print(f\"{tarih} --> 1.yüzyıl\")\n",
    "elif 100 <= int(tarih) < 1000:\n",
    "    print(f\"{tarih} --> {int(tarih[0]) + 1 }. yüzyıl\")\n",
    "else :\n",
    "    for i in tarih1[:2] :\n",
    "        liste1.append(i)\n",
    "    a =int(\"\".join(liste1))\n",
    "    print(f\"{tarih} --> {a+1}. yüzyıl\")"
   ]
  },
  {
   "cell_type": "markdown",
   "metadata": {
    "id": "Y4qLf-_89nL4"
   },
   "source": [
    "6- Yazının içersindeki kelimelerin ilk ve son karakterleri sabit tutup diğer karakterleri yerine - çizgi koyan fonksiyon yazalım.\n",
    "print(dönüstür(\"hello world\")) --> h---o w---d "
   ]
  },
  {
   "cell_type": "code",
   "execution_count": 14,
   "metadata": {},
   "outputs": [],
   "source": [
    "def dönüştür(yazı) :\n",
    "    liste = yazı.split()\n",
    "    yeni = \"\"\n",
    "    for i in liste :\n",
    "        for k in range(len(i)) :\n",
    "            if k == 0 :\n",
    "                yeni += i[k]\n",
    "            elif k == len(i) - 1 :\n",
    "                yeni += i[k] + \" \"\n",
    "            else:\n",
    "                yeni += \"-\"\n",
    "    return yeni.strip()"
   ]
  },
  {
   "cell_type": "code",
   "execution_count": 13,
   "metadata": {},
   "outputs": [
    {
     "data": {
      "text/plain": [
       "'M-----a b---m a--m O---n'"
      ]
     },
     "execution_count": 13,
     "metadata": {},
     "output_type": "execute_result"
    }
   ],
   "source": [
    "dönüştür(\"Merhaba benim adım Osman\")"
   ]
  },
  {
   "cell_type": "code",
   "execution_count": 2,
   "metadata": {},
   "outputs": [
    {
     "name": "stdout",
     "output_type": "stream",
     "text": [
      "H---o my n--e i-t F---h \n"
     ]
    }
   ],
   "source": [
    "satz = \"Hallo my name ist Fatih\"\n",
    "liste_satz = satz.split()\n",
    "new_satz = ''\n",
    "for i in liste_satz:\n",
    "    i = i.replace(i[1:len(i)-1],\"-\"*(len(i)-2))\n",
    "    new_satz += i + ' '\n",
    "print(new_satz)"
   ]
  },
  {
   "cell_type": "markdown",
   "metadata": {
    "id": "mEPc7d0Z9nAI"
   },
   "source": [
    "7- Her girdi listesinde iki tanesi hariç her rakam en az bir kere tekrarlıyor.iki benzersiz sayıyı döndüren bir fonksiyon yazalım.\n",
    "benzersizi_bul([2,2,3,11,3,6,5]) --> [6, 5]  # 11 de 2 tane 1 var"
   ]
  },
  {
   "cell_type": "code",
   "execution_count": 3,
   "metadata": {},
   "outputs": [
    {
     "name": "stdout",
     "output_type": "stream",
     "text": [
      "['6', '5']\n"
     ]
    }
   ],
   "source": [
    "numbers = input(\"Aralarında virgül bırakarak bir takım sayılar gir : \")\n",
    "listed1= numbers.split(\",\")\n",
    "a= \"\".join(listed1)\n",
    "listed2 = []\n",
    "\n",
    "for i in a :\n",
    "    if a.count(i) == 1 :\n",
    "        listed2.append(i)\n",
    "print(listed2)"
   ]
  },
  {
   "cell_type": "code",
   "execution_count": 12,
   "metadata": {},
   "outputs": [
    {
     "name": "stdout",
     "output_type": "stream",
     "text": [
      "<map object at 0x000001CB8D94BD90>\n",
      "['2', '2', '3', '11', '3', '6', '5']\n",
      "['2', '2', '3', '11', '3', '6', '5']\n"
     ]
    }
   ],
   "source": [
    "a = [2,2,3,11,3,6,5]\n",
    "print(map(str,a))       # Bunları ayrıntıları görmek adına yazdırdım. \n",
    "print(list(map(str,a))) # Bunları ayrıntıları görmek adına yazdırdım. \n",
    "c = list(map(str,a))     \n",
    "print(c)                # Bunları ayrıntıları görmek adına yazdırdım. \n",
    "\n",
    "\"\".join(c)   "
   ]
  },
  {
   "cell_type": "code",
   "execution_count": null,
   "metadata": {},
   "outputs": [],
   "source": [
    "def benzersizi_bul(a) : \n",
    "    b = \"\".join(map(str,a))\n",
    "    return(list({j for i in set(b) for j in a if b.count(i) == 1 and i in str(j)}))"
   ]
  },
  {
   "cell_type": "code",
   "execution_count": 13,
   "metadata": {},
   "outputs": [
    {
     "data": {
      "text/plain": [
       "[5, 6]"
      ]
     },
     "execution_count": 13,
     "metadata": {},
     "output_type": "execute_result"
    }
   ],
   "source": [
    "benzersizi_bul([2,2,3,11,3,6,5])"
   ]
  },
  {
   "cell_type": "markdown",
   "metadata": {
    "id": "GMgm2Jhu9mQj"
   },
   "source": [
    "8- Bir stringi(kelime) alan ve birbirini izleyen aynı harfleri çıkaran bir fonksiyon oluşturun.\n",
    "print(cıkar(\"mmmeeerrhhhaaabbbaaa\")) --> merhaba"
   ]
  },
  {
   "cell_type": "code",
   "execution_count": 21,
   "metadata": {},
   "outputs": [
    {
     "name": "stdout",
     "output_type": "stream",
     "text": [
      "merhaba\n"
     ]
    }
   ],
   "source": [
    "kelime = input(\"Bir kelime yaz : \")\n",
    "yeni_kelime = \"\"\n",
    "for i in range(len(kelime)-1) :\n",
    "    if kelime[i] != kelime[i + 1] :\n",
    "        yeni_kelime += kelime[i]\n",
    "yeni_kelime += kelime[-1]\n",
    "print(yeni_kelime)"
   ]
  },
  {
   "cell_type": "markdown",
   "metadata": {
    "id": "3oD9kK_q9mBH"
   },
   "source": [
    "9- Belirli aralıkta(sınırlar dahil) verilen rakamın kaç kere olduğunu sayan bir fonksiyon yazalım. print(kac_tane(50,55,5)) --> 7"
   ]
  },
  {
   "cell_type": "code",
   "execution_count": 41,
   "metadata": {},
   "outputs": [
    {
     "name": "stdout",
     "output_type": "stream",
     "text": [
      "[50, 51, 52, 53, 54, 55]\n",
      "7\n"
     ]
    }
   ],
   "source": [
    "baslangıc = int(input(\"Baslangıc degerini gir : \"))\n",
    "bitis = int(input(\"Bitis degerini gir : \"))\n",
    "sayi = int(input(\"Hangi sayıyı saydırmak istersin : \"))\n",
    "\n",
    "yeni = []\n",
    "\n",
    "for i in range(baslangıc, bitis + 1) :\n",
    "    yeni.append(i)\n",
    "\n",
    "    sonuc = 0    \n",
    "    for i in range(baslangıc, bitis + 1) :\n",
    "        sonuc += str(i).count(str(sayi))\n",
    "print(yeni)  \n",
    "print(sonuc)\n"
   ]
  },
  {
   "cell_type": "code",
   "execution_count": 43,
   "metadata": {},
   "outputs": [],
   "source": [
    "def kac_tane(balangıc, bitis, sayı) :\n",
    "    sonuc = 0\n",
    "    for i in range(baslangıc, bitis+1) :\n",
    "        sonuc += str(i).count(str(sayı))\n",
    "    return sonuc"
   ]
  },
  {
   "cell_type": "code",
   "execution_count": 46,
   "metadata": {},
   "outputs": [
    {
     "name": "stdout",
     "output_type": "stream",
     "text": [
      "7\n"
     ]
    }
   ],
   "source": [
    "print(kac_tane(50,55,5))"
   ]
  },
  {
   "cell_type": "markdown",
   "metadata": {
    "id": "n1Tuy6szEGR8"
   },
   "source": [
    "10- Yüksekliği verilen yılbaşı ağacını oluşturan bir fonksiyon yazalım. agac(7)\n",
    "\n",
    "\n",
    "```\n",
    "      #      \n",
    "     ###     \n",
    "    #####    \n",
    "   #######   \n",
    "  #########  \n",
    " ########### \n",
    "############# \n",
    "```\n",
    "\n"
   ]
  },
  {
   "cell_type": "code",
   "execution_count": 13,
   "metadata": {},
   "outputs": [
    {
     "name": "stdout",
     "output_type": "stream",
     "text": [
      "      #\n",
      "     ###\n",
      "    #####\n",
      "   #######\n",
      "  #########\n",
      " ###########\n",
      "#############\n"
     ]
    }
   ],
   "source": [
    "yükseklik = int(input(\"Ağacın yüksekliği kaç birim olmalı : \"))\n",
    "for i in range(yükseklik):\n",
    "    print(' '*(yükseklik-i-1) + '#'*(2*i+1))"
   ]
  },
  {
   "cell_type": "markdown",
   "metadata": {},
   "source": [
    "ÖDEV 1\n",
    "Task : Let's say you left a message before that prints a password you need. To see the password you left, you need to enter your name and the program should recognize you.Write a program that \n",
    "Takes the first name from the user and compares it to yours,\n",
    "Then if the name the user entered is the same as yours, print out such as : \"Hello, Joseph! The password is : @12\",\n",
    "If the name the user entered is not the same as yours, print out such as : \"Hello, Amina! See you later.\""
   ]
  },
  {
   "cell_type": "code",
   "execution_count": null,
   "metadata": {},
   "outputs": [],
   "source": []
  },
  {
   "cell_type": "markdown",
   "metadata": {},
   "source": [
    "ÖDEV 2\n",
    "Find out if a given number is an \"Armstrong Number\".\n",
    "An n-digit number that is the sum of the nth powers of its digits is called an n-Armstrong number. Examples :\n",
    "371 = 33 + 73 + 13;\n",
    "9474 = 94 + 44 + 74 + 44;\n",
    "93084 = 95 + 35 + 05 + 85 + 45.\n",
    "Write a Python program that;\n",
    "takes a positive integer number from the user,\n",
    "checks the entered number if it is Armstrong,\n",
    "consider the negative, float and any entries other than numeric values then display a warning message to the user."
   ]
  },
  {
   "cell_type": "code",
   "execution_count": null,
   "metadata": {},
   "outputs": [],
   "source": []
  },
  {
   "cell_type": "markdown",
   "metadata": {},
   "source": [
    "ÖDEV 3\n",
    "Task : Write a program that takes a number from the user and prints the result to check if it is a prime number.\n",
    "The examples of the desired output are as follows :\n",
    "input →  19 ⇉ output : 19 is a prime number\n",
    "input →  10 ⇉ output : 10 is not a prime number\n",
    "Note that : This question is famous on the web, so to get more benefit from this assignment, try to complete this task on your own. "
   ]
  },
  {
   "cell_type": "code",
   "execution_count": 2,
   "metadata": {},
   "outputs": [
    {
     "name": "stdout",
     "output_type": "stream",
     "text": [
      "1011 : Asal sayı değildir.\n"
     ]
    }
   ],
   "source": [
    "sayi = int(input(\"Bir tamsayı gir : \"))\n",
    "if sayi > 1:\n",
    "    for i in range(2 , sayi) : \n",
    "        if sayi % i == 0 :\n",
    "            print(sayi , \": Asal sayı değildir.\")\n",
    "            break\n",
    "    else :\n",
    "        print(sayi , \": Asal sayıdır.\")\n",
    "else :\n",
    "    print(sayi , \": Asal sayı değildir.\")"
   ]
  },
  {
   "cell_type": "code",
   "execution_count": 21,
   "metadata": {},
   "outputs": [
    {
     "name": "stdout",
     "output_type": "stream",
     "text": [
      "73 is a prime number\n"
     ]
    }
   ],
   "source": [
    "number_asked = int(input (\"Please enter a positive number :\"))\n",
    "\n",
    "if number_asked == 1:\n",
    "    print(f\"{number_asked} is not a prime number\")\n",
    "elif number_asked == 2:\n",
    "    print(f\"{number_asked} is a prime number\")\n",
    "for i in range(2,number_asked):\n",
    "    if number_asked % i == 0:\n",
    "        print(f\"{number_asked} is not a prime number\")\n",
    "        break\n",
    "    \n",
    "if number_asked % i != 0 and number_asked > 2:\n",
    "        print(f\"{number_asked} is a prime number\")"
   ]
  },
  {
   "cell_type": "code",
   "execution_count": 58,
   "metadata": {},
   "outputs": [
    {
     "name": "stdout",
     "output_type": "stream",
     "text": [
      "514\n",
      "TC No 11 rakamdan oluşmalıdır.\n"
     ]
    }
   ],
   "source": [
    "# 11 haneli olmali.\n",
    "# 0 ile baslayamaz.\n",
    "# Kimlik numaramızın 1. 3. 5. 7. ve 9. hanelerinin toplamının 7 katından\n",
    "# 2. 4. 6. ve 8. hanelerinin toplamı çıkartıldığında,\n",
    "# çıkan sonucu 10’a böldüğünüzde kalan bize 10. hanenin numarasını verir.\n",
    "# 10’a kadar ki hanelerin toplamını 10’a böldüğünüzde ise kalan rakam bize 11. haneyi gösterir.\n",
    "\n",
    "n = input(\"TC No'nu gir : \")\n",
    "print(n)\n",
    "a = list(n)\n",
    "if len(a) == 11 :\n",
    "    if int(a[0]) != 0 :\n",
    "        if ((int(a[0]) + int(a[2]) + int(a[4]) + int(a[6]) + int(a[8])) * 7 - ( int(a[1]) + int(a[3]) + int(a[5])+ int(a[7]))) % 10 == int(a[-2]) and ((int(a[0])) + int(a[1]) + int(a[2]) + int(a[3]) + int(a[4]) + int(a[5]) + int(a[6])+ int(a[7]) + int(a[8]) + int(a[9])) % 10 == int(a[-1]):\n",
    "            print(\"TC No : Doğru\")\n",
    "        else :\n",
    "            print(\"TC No : Yanlış\")\n",
    "    else :\n",
    "        print(\"TC No 0 ile başlayamaz.\")\n",
    "else :\n",
    "    print(\"TC No 11 rakamdan oluşmalıdır.\")"
   ]
  }
 ],
 "metadata": {
  "colab": {
   "name": "group_2.ipynb",
   "provenance": []
  },
  "kernelspec": {
   "display_name": "Python 3",
   "language": "python",
   "name": "python3"
  },
  "language_info": {
   "codemirror_mode": {
    "name": "ipython",
    "version": 3
   },
   "file_extension": ".py",
   "mimetype": "text/x-python",
   "name": "python",
   "nbconvert_exporter": "python",
   "pygments_lexer": "ipython3",
   "version": "3.10.0"
  }
 },
 "nbformat": 4,
 "nbformat_minor": 1
}
