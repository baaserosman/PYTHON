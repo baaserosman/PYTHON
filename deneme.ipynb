{
 "cells": [
  {
   "cell_type": "code",
   "execution_count": 1,
   "metadata": {},
   "outputs": [
    {
     "name": "stdout",
     "output_type": "stream",
     "text": [
      "3102\n"
     ]
    }
   ],
   "source": [
    "num = 2013\n",
    "reversed_num = 0\n",
    "while num != 0:\n",
    " digit = num % 10\n",
    " reversed_num = reversed_num * 10 + digit\n",
    " num //= 10\n",
    "print(reversed_num)"
   ]
  },
  {
   "cell_type": "code",
   "execution_count": 2,
   "metadata": {},
   "outputs": [
    {
     "name": "stdout",
     "output_type": "stream",
     "text": [
      "False True\n"
     ]
    }
   ],
   "source": [
    "f=lambda x:bool(x%2)\n",
    "print(f(20), f(21))\n"
   ]
  },
  {
   "cell_type": "code",
   "execution_count": null,
   "metadata": {},
   "outputs": [],
   "source": [
    "fruits = [\"banana\", \"mango\", \"pear\", \"apple\", \"kiwi\", \"grape\"]"
   ]
  },
  {
   "cell_type": "code",
   "execution_count": 6,
   "metadata": {},
   "outputs": [
    {
     "data": {
      "text/plain": [
       "'c:\\\\Users\\\\baase\\\\Desktop\\\\VS_CODE'"
      ]
     },
     "execution_count": 6,
     "metadata": {},
     "output_type": "execute_result"
    }
   ],
   "source": [
    "pwd"
   ]
  },
  {
   "cell_type": "code",
   "execution_count": 1,
   "metadata": {},
   "outputs": [],
   "source": [
    "import os"
   ]
  },
  {
   "cell_type": "code",
   "execution_count": 2,
   "metadata": {},
   "outputs": [],
   "source": [
    "dosya_içeriği = os.listdir()"
   ]
  },
  {
   "cell_type": "code",
   "execution_count": 3,
   "metadata": {},
   "outputs": [
    {
     "data": {
      "text/plain": [
       "['.git',\n",
       " '.gitignore',\n",
       " 'Assigments',\n",
       " 'deneme.ipynb',\n",
       " 'Done',\n",
       " 'Live_WorkShop_Even',\n",
       " 'PythonBasic',\n",
       " 'Self_Study',\n",
       " 'test.txt',\n",
       " 'Untitled1.ipynb',\n",
       " 'upper_package',\n",
       " 'Work_Shop',\n",
       " 'z_derli_toplu']"
      ]
     },
     "execution_count": 3,
     "metadata": {},
     "output_type": "execute_result"
    }
   ],
   "source": [
    "dosya_içeriği"
   ]
  },
  {
   "cell_type": "code",
   "execution_count": 4,
   "metadata": {},
   "outputs": [
    {
     "data": {
      "text/plain": [
       "<_io.TextIOWrapper name='test.txt' mode='r' encoding='cp1252'>"
      ]
     },
     "execution_count": 4,
     "metadata": {},
     "output_type": "execute_result"
    }
   ],
   "source": [
    "open(\"test.txt\")"
   ]
  },
  {
   "cell_type": "code",
   "execution_count": 5,
   "metadata": {},
   "outputs": [
    {
     "data": {
      "text/plain": [
       "<_io.TextIOWrapper name='C:/Users/baase/Desktop/VS_CODE/test.txt' mode='r' encoding='cp1252'>"
      ]
     },
     "execution_count": 5,
     "metadata": {},
     "output_type": "execute_result"
    }
   ],
   "source": [
    "open(\"C:/Users/baase/Desktop/VS_CODE/test.txt\")"
   ]
  },
  {
   "cell_type": "code",
   "execution_count": 8,
   "metadata": {},
   "outputs": [
    {
     "name": "stdout",
     "output_type": "stream",
     "text": [
      "<class '_io.TextIOWrapper'>\n"
     ]
    }
   ],
   "source": [
    "my_file= open(\"test.txt\")\n",
    "print(type(my_file))"
   ]
  },
  {
   "cell_type": "code",
   "execution_count": 12,
   "metadata": {},
   "outputs": [
    {
     "data": {
      "text/plain": [
       "199"
      ]
     },
     "execution_count": 12,
     "metadata": {},
     "output_type": "execute_result"
    }
   ],
   "source": [
    "ord(\"Ç\")"
   ]
  },
  {
   "cell_type": "code",
   "execution_count": 13,
   "metadata": {},
   "outputs": [
    {
     "ename": "TypeError",
     "evalue": "'bytes' object is not callable",
     "output_type": "error",
     "traceback": [
      "\u001b[1;31m---------------------------------------------------------------------------\u001b[0m",
      "\u001b[1;31mTypeError\u001b[0m                                 Traceback (most recent call last)",
      "\u001b[1;32m~\\AppData\\Local\\Temp/ipykernel_9088/642422356.py\u001b[0m in \u001b[0;36m<module>\u001b[1;34m\u001b[0m\n\u001b[1;32m----> 1\u001b[1;33m \u001b[1;34m\"Ç\"\u001b[0m\u001b[1;33m.\u001b[0m\u001b[0mencode\u001b[0m\u001b[1;33m(\u001b[0m\u001b[1;33m)\u001b[0m\u001b[1;33m(\u001b[0m\u001b[1;34m\"ascii\"\u001b[0m\u001b[1;33m)\u001b[0m\u001b[1;33m\u001b[0m\u001b[1;33m\u001b[0m\u001b[0m\n\u001b[0m",
      "\u001b[1;31mTypeError\u001b[0m: 'bytes' object is not callable"
     ]
    }
   ],
   "source": [
    "\"Ç\".encode()(\"ascii\")"
   ]
  },
  {
   "cell_type": "code",
   "execution_count": 15,
   "metadata": {},
   "outputs": [
    {
     "data": {
      "text/plain": [
       "b'\\x80'"
      ]
     },
     "execution_count": 15,
     "metadata": {},
     "output_type": "execute_result"
    }
   ],
   "source": [
    "\"Ç\".encode(\"cp857\")"
   ]
  },
  {
   "cell_type": "code",
   "execution_count": 16,
   "metadata": {},
   "outputs": [
    {
     "data": {
      "text/plain": [
       "b'\\xc3\\x87'"
      ]
     },
     "execution_count": 16,
     "metadata": {},
     "output_type": "execute_result"
    }
   ],
   "source": [
    "\"Ç\".encode(\"UTF-8\")"
   ]
  },
  {
   "cell_type": "code",
   "execution_count": 12,
   "metadata": {},
   "outputs": [
    {
     "name": "stdout",
     "output_type": "stream",
     "text": [
      "Sakarya Türküsü\n",
      "İnsa\n"
     ]
    }
   ],
   "source": [
    "sakarya = open(\"sakarya_türküsü.txt\", encoding=\"UTF-8\")\n",
    "print(sakarya.read(20))\n",
    "\n",
    "#sakarya.close()\n"
   ]
  },
  {
   "cell_type": "code",
   "execution_count": 13,
   "metadata": {},
   "outputs": [
    {
     "name": "stdout",
     "output_type": "stream",
     "text": [
      "n bu su misali kıvrı\n"
     ]
    }
   ],
   "source": [
    "print(sakarya.read(20))\n",
    "sakarya.close()"
   ]
  },
  {
   "cell_type": "code",
   "execution_count": 14,
   "metadata": {},
   "outputs": [
    {
     "name": "stdout",
     "output_type": "stream",
     "text": [
      "Sakarya Türküsü\n",
      "İnsan bu \n"
     ]
    }
   ],
   "source": [
    "sakarya = open(\"sakarya_türküsü.txt\", \"r\",encoding=\"utf-8\")\n",
    "print(sakarya.read(25))\n",
    "\n",
    "sakarya.close()"
   ]
  },
  {
   "cell_type": "code",
   "execution_count": 5,
   "metadata": {},
   "outputs": [
    {
     "name": "stdout",
     "output_type": "stream",
     "text": [
      "Sakarya Türküsü\n"
     ]
    }
   ],
   "source": [
    "sakarya = open(\"sakarya_türküsü.txt\", \"r\",encoding=\"utf-8\")\n",
    "print(sakarya.read(15))\n",
    "\n",
    "sakarya.close()"
   ]
  },
  {
   "cell_type": "code",
   "execution_count": 6,
   "metadata": {},
   "outputs": [
    {
     "name": "stdout",
     "output_type": "stream",
     "text": [
      "Sakarya Türküsü\n",
      "İnsan bu su misali kıvrım kıv\n"
     ]
    }
   ],
   "source": [
    "sakarya = open(\"sakarya_türküsü.txt\", \"r\",encoding=\"utf-8\")\n",
    "print(sakarya.read(45))\n",
    "\n",
    "sakarya.close()"
   ]
  },
  {
   "cell_type": "code",
   "execution_count": 10,
   "metadata": {},
   "outputs": [
    {
     "name": "stdout",
     "output_type": "stream",
     "text": [
      "Sakarya Türküsü\n",
      "\n",
      "İnsan bu su mi\n",
      "sali kıvrım kıv\n"
     ]
    }
   ],
   "source": [
    "sakarya = open(\"sakarya_türküsü.txt\", \"r\",encoding=\"utf-8\")\n",
    "print(sakarya.read(15))\n",
    "print(sakarya.read(15))\n",
    "print(sakarya.read(15))\n",
    "\n"
   ]
  },
  {
   "cell_type": "code",
   "execution_count": 11,
   "metadata": {},
   "outputs": [
    {
     "name": "stdout",
     "output_type": "stream",
     "text": [
      "Sakarya Türküsü\n",
      "\n",
      "İnsan bu su misali kıvrım kıv\n"
     ]
    }
   ],
   "source": [
    "sakarya = open(\"sakarya_türküsü.txt\", \"r\",encoding=\"utf-8\")\n",
    "print(sakarya.read(15))\n",
    "print(sakarya.read(15) , end= \"\")\n",
    "print(sakarya.read(15))\n"
   ]
  },
  {
   "cell_type": "code",
   "execution_count": 13,
   "metadata": {},
   "outputs": [
    {
     "name": "stdout",
     "output_type": "stream",
     "text": [
      "Sakarya Türküsü\n",
      "\n",
      "İnsan bu su mi\n",
      "sali kıvrım kıvrım akar ya\n",
      "Bir yanda akan benim öbür yanda Sakarya\n",
      "Su iner yokuş\n"
     ]
    }
   ],
   "source": [
    "sakarya = open(\"sakarya_türküsü.txt\", \"r\",encoding=\"utf-8\")\n",
    "print(sakarya.read(15))\n",
    "print(sakarya.read(15))\n",
    "print(sakarya.read(80))"
   ]
  },
  {
   "cell_type": "code",
   "execution_count": 27,
   "metadata": {},
   "outputs": [
    {
     "name": "stdout",
     "output_type": "stream",
     "text": [
      "İnsan bu su mis"
     ]
    }
   ],
   "source": [
    "sakarya = open(\"sakarya_türküsü.txt\", \"r\",encoding=\"utf-8\")\n",
    "\n",
    "sakarya.seek(17)\n",
    "print(sakarya.read(15) , end= \"\")"
   ]
  },
  {
   "cell_type": "code",
   "execution_count": null,
   "metadata": {},
   "outputs": [],
   "source": [
    "my_file = open(\"test.txt\", \"r\",encoding=\"utf-8\")\n",
    "my_file.seek(5)\n",
    "print(my_file.read(20))"
   ]
  },
  {
   "cell_type": "code",
   "execution_count": 17,
   "metadata": {},
   "outputs": [
    {
     "name": "stdout",
     "output_type": "stream",
     "text": [
      "Sakarya Türküsü\n",
      "İnsan bu su \n",
      "33\n"
     ]
    }
   ],
   "source": [
    "sakarya = open(\"sakarya_türküsü.txt\", \"r\",encoding=\"utf-8\")\n",
    "print(sakarya.read(28))\n",
    "print(sakarya.tell())\n",
    "\n",
    "#sakarya.close()"
   ]
  },
  {
   "cell_type": "code",
   "execution_count": 19,
   "metadata": {},
   "outputs": [
    {
     "name": "stdout",
     "output_type": "stream",
     "text": [
      "misali kıvrım kıvrım akar ya\n",
      "65\n"
     ]
    }
   ],
   "source": [
    "\n",
    "print(sakarya.read(28))\n",
    "print(sakarya.tell())"
   ]
  },
  {
   "cell_type": "code",
   "execution_count": 1,
   "metadata": {},
   "outputs": [
    {
     "name": "stdout",
     "output_type": "stream",
     "text": [
      "{'C': 1, 'u': 2, 'm': 4, 'a': 9, ' ': 8, 'g': 1, 'ü': 2, 'n': 2, 'v': 2, 'e': 3, 'd': 1, 't': 3, 'ö': 1, 'r': 3, 'i': 1, 'ı': 3, 'ş': 2, '.': 2, 'K': 1, 'y': 1, 'f': 1, 's': 2, 'c': 2, 'l': 2, 'o': 1, 'k': 1}\n"
     ]
    }
   ],
   "source": [
    "string = \"Cuma günü veda töreni varmış. Kıyafet smart casual olacakmış.\"\n",
    "word_dict = {}\n",
    "for i in string :\n",
    "\n",
    "    if i in word_dict :\n",
    "        word_dict[i] += 1\n",
    "\n",
    "    else :\n",
    "        word_dict[i] = 1\n",
    "\n",
    "print(word_dict)"
   ]
  }
 ],
 "metadata": {
  "interpreter": {
   "hash": "102296e92056703233172f32d1443698de791a2ed6ee02edd4a1639040ea0cb4"
  },
  "kernelspec": {
   "display_name": "Python 3.10.0 64-bit",
   "language": "python",
   "name": "python3"
  },
  "language_info": {
   "codemirror_mode": {
    "name": "ipython",
    "version": 3
   },
   "file_extension": ".py",
   "mimetype": "text/x-python",
   "name": "python",
   "nbconvert_exporter": "python",
   "pygments_lexer": "ipython3",
   "version": "3.10.0"
  },
  "orig_nbformat": 4
 },
 "nbformat": 4,
 "nbformat_minor": 2
}
